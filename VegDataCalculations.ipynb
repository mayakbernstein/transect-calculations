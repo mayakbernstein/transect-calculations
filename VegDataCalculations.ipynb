{
 "cells": [
  {
   "cell_type": "markdown",
   "id": "87c19ed2-e2b5-40c3-96b0-b5058150b780",
   "metadata": {},
   "source": [
    "# **Line Intercept Vegetation Calculations**\n",
    "\n",
    "**this notebook contains code for calculations of percent cover of various cover types across:**\n",
    "1. The entire transect (to HTS)\n",
    "2. the foredune portion of the transect (dune heel to dune toe)\n",
    "3. the vegetated portion of the transect (to lowest veg)"
   ]
  },
  {
   "cell_type": "markdown",
   "id": "8ed3aa90-e49d-4b0a-93dc-cd9fb2557ae5",
   "metadata": {},
   "source": [
    "## Import Packages"
   ]
  },
  {
   "cell_type": "code",
   "execution_count": 1,
   "id": "afbb9085-a06e-44a5-afd9-7c7f7f32399d",
   "metadata": {},
   "outputs": [],
   "source": [
    "import pandas as pd\n",
    "from IPython.display import display #makes pretty tables"
   ]
  },
  {
   "cell_type": "markdown",
   "id": "cc470de8-ec67-40dc-9522-60f1f101381e",
   "metadata": {},
   "source": [
    "Import Data"
   ]
  },
  {
   "cell_type": "code",
   "execution_count": 2,
   "id": "ef20b273-1ed7-4cdc-bfef-04c095b62c94",
   "metadata": {},
   "outputs": [],
   "source": [
    "#file path\n",
    "file_path = '/Users/mayabernstein/Documents/CoalOilPoint_09-27-2023.xlsx'\n",
    "\n",
    "# Load data from each sheet\n",
    "positional_df = pd.read_excel(file_path, sheet_name=\"PositionalCharacteristics\")\n",
    "transects_df = pd.read_excel(file_path, sheet_name=\"Transects\")\n",
    "elevation_df = pd.read_excel(file_path, sheet_name=\"Elevation\")\n",
    "readme_df = pd.read_excel(file_path, sheet_name=\"ReadMe\")\n"
   ]
  },
  {
   "cell_type": "markdown",
   "id": "1cd9c4cd-e6d9-44ed-b948-9496739a2c22",
   "metadata": {},
   "source": [
    "## Create a dataframe\n",
    "\n",
    "This will be where the calculated variables are stored"
   ]
  },
  {
   "cell_type": "code",
   "execution_count": 3,
   "id": "83e83d3d-6e7a-494b-b9e3-fce1a3d15a0e",
   "metadata": {},
   "outputs": [],
   "source": [
    "calculations_df = pd.DataFrame()"
   ]
  },
  {
   "cell_type": "markdown",
   "id": "484c115b-0a82-4353-b7fc-aca20cdba473",
   "metadata": {},
   "source": [
    "## Supplement transect data"
   ]
  },
  {
   "cell_type": "code",
   "execution_count": 8,
   "id": "2005259f-d73f-4e3a-8091-5b38b715bfc4",
   "metadata": {},
   "outputs": [],
   "source": [
    "# Strip leading/trailing spaces to ensure clean matching\n",
    "transects_df['type'] = transects_df['type'].str.strip()\n",
    "readme_df['name'] = readme_df['name'].str.strip()  # Ensure no extra spaces in the 'name' column\n",
    "\n",
    "# Create a mapping from 'name' to 'native' from readme_df\n",
    "name_to_native = readme_df.set_index('name')['native']\n",
    "\n",
    "# Use map to add a new 'native' column to transects_df based on 'type' matching 'name'\n",
    "transects_df['native'] = transects_df['type'].map(name_to_native)\n"
   ]
  },
  {
   "cell_type": "markdown",
   "id": "ca013abe-3805-499f-ad65-a888f46fec49",
   "metadata": {},
   "source": [
    "## Calculate and build in variables"
   ]
  },
  {
   "cell_type": "code",
   "execution_count": 5,
   "id": "849fc825-8d85-45ec-ab6d-cd9332ce03e2",
   "metadata": {},
   "outputs": [],
   "source": [
    "#transect letter\n",
    "calculations_df[\"transect\"] = positional_df[\"transect\"]\n",
    "\n",
    "# transect length\n",
    "calculations_df[\"tran_length\"] = positional_df[\"HTS\"]  \n",
    "\n",
    "# dune length\n",
    "dune_length = positional_df[\"toe_sea\"] - positional_df[\"toe_in\"]\n",
    "calculations_df[\"dune_length\"] = dune_length\n",
    "\n",
    "#vegeted length\n",
    "calculations_df[\"veg_length\"] = positional_df[\"lowest_veg\"]  \n",
    "\n",
    "#percent cover of everything over entire transect length\n",
    "pct_cover_all_whole = transects_df.groupby(\"transect\")[\"cor_length\"].sum() / calculations_df.set_index(\"transect\")[\"tran_length\"]\n",
    "calculations_df[\"pct_cover_all_whole\"] = calculations_df[\"transect\"].map(pct_cover_all_whole)\n",
    "\n",
    "#----- veg over whole transect\n",
    "\n",
    "# Filter the rows where 'type' contains a four or five letter code\n",
    "vegetation_df = transects_df[transects_df['type'].str.len().isin([4, 5])]\n",
    "\n",
    "# Sum the 'cor_length' for those rows\n",
    "veg_cover_sum = vegetation_df.groupby(\"transect\")[\"cor_length\"].sum()\n",
    "\n",
    "# Calculate the percent cover of vegetation over the entire transect\n",
    "pct_cover_veg_whole = veg_cover_sum / calculations_df.set_index(\"transect\")[\"tran_length\"]\n",
    "\n",
    "# Add this calculation to the 'calculations_df'\n",
    "calculations_df[\"pct_cover_veg_whole\"] = calculations_df[\"transect\"].map(pct_cover_veg_whole)\n",
    "\n",
    "#----- native veg whole transect\n",
    "\n",
    "# Filter the rows where 'type' contains a four or five letter code and 'native' is 1.0\n",
    "native_vegetation_df = transects_df[(transects_df['type'].str.len().isin([4, 5])) & (transects_df['native'] == 1.0)]\n",
    "\n",
    "# Sum the 'cor_length' for those rows\n",
    "native_veg_cover_sum = native_vegetation_df.groupby(\"transect\")[\"cor_length\"].sum()\n",
    "\n",
    "# Calculate the percent cover of native vegetation over the entire transect\n",
    "pct_cover_native_veg_whole = native_veg_cover_sum / calculations_df.set_index(\"transect\")[\"tran_length\"]\n",
    "\n",
    "# Add this calculation to the 'calculations_df'\n",
    "calculations_df[\"pct_cover_native_veg_whole\"] = calculations_df[\"transect\"].map(pct_cover_native_veg_whole)\n",
    "\n",
    "#----- nonnative veg whole transect\n",
    "\n",
    "# Filter the rows where 'type' contains a four or five letter code and 'native' is 0.0\n",
    "non_native_vegetation_df = transects_df[(transects_df['type'].str.len().isin([4, 5])) & (transects_df['native'] == 0.0)]\n",
    "\n",
    "# Sum the 'cor_length' for those rows\n",
    "non_native_veg_cover_sum = non_native_vegetation_df.groupby(\"transect\")[\"cor_length\"].sum()\n",
    "\n",
    "# Calculate the percent cover of non-native vegetation over the entire transect\n",
    "pct_cover_non_native_veg_whole = non_native_veg_cover_sum / calculations_df.set_index(\"transect\")[\"tran_length\"]\n",
    "\n",
    "# Add this calculation to the 'calculations_df'\n",
    "calculations_df[\"pct_cover_non_native_veg_whole\"] = calculations_df[\"transect\"].map(pct_cover_non_native_veg_whole)\n",
    "\n"
   ]
  },
  {
   "cell_type": "markdown",
   "id": "d97d92ea-ed85-4dfd-b470-ee6bea0460e8",
   "metadata": {},
   "source": [
    "## Check Dataframes"
   ]
  },
  {
   "cell_type": "code",
   "execution_count": 6,
   "id": "88db9b26-efcf-41cf-bdfe-b8020ce29c24",
   "metadata": {},
   "outputs": [
    {
     "name": "stdout",
     "output_type": "stream",
     "text": [
      "  transect  tran_length  dune_length  veg_length  pct_cover_all_whole  \\\n",
      "0        A         40.8           33        35.0             0.252708   \n",
      "1        B         39.0           30        31.0             0.140308   \n",
      "2        C         40.5           37        35.1             0.245951   \n",
      "3        D         35.0           34        32.0             0.236086   \n",
      "\n",
      "   pct_cover_veg_whole  pct_cover_native_veg_whole  \\\n",
      "0             0.201728                    0.201238   \n",
      "1             0.088256                    0.088256   \n",
      "2             0.153728                    0.153728   \n",
      "3             0.217000                    0.217000   \n",
      "\n",
      "   pct_cover_non_native_veg_whole  \n",
      "0                         0.00049  \n",
      "1                             NaN  \n",
      "2                             NaN  \n",
      "3                             NaN  \n"
     ]
    }
   ],
   "source": [
    "print(calculations_df)"
   ]
  },
  {
   "cell_type": "code",
   "execution_count": 7,
   "id": "b611b616-55cb-440b-b6dd-56cfef46a8cc",
   "metadata": {},
   "outputs": [
    {
     "name": "stdout",
     "output_type": "stream",
     "text": [
      "    transect  start    end  type  depth  pct_cover  total_length  cor_length  \\\n",
      "0          A   0.10   0.20  LUBI     16        100          0.10       0.100   \n",
      "1          A   0.40   0.45  CACH      3        100          0.05       0.050   \n",
      "2          A   1.05   1.45  AMCH      5         30          0.40       0.120   \n",
      "3          A   1.55   1.75  CACH      3         20          0.20       0.040   \n",
      "4          A   1.90   1.93  LUBI     24        100          0.03       0.030   \n",
      "..       ...    ...    ...   ...    ...        ...           ...         ...   \n",
      "149        D  19.50  26.00  ABMA      8          5          6.50       0.325   \n",
      "150        D  19.50  26.00  AMCH      8         30          6.50       1.950   \n",
      "151        D  26.00  32.00  ABUM      8         35          6.00       2.100   \n",
      "152        D  26.00  32.00  AMCH      9          5          6.00       0.300   \n",
      "153        D  26.00  32.00  CACH      5          2          6.00       0.120   \n",
      "\n",
      "     native  \n",
      "0       1.0  \n",
      "1       1.0  \n",
      "2       1.0  \n",
      "3       1.0  \n",
      "4       1.0  \n",
      "..      ...  \n",
      "149     1.0  \n",
      "150     1.0  \n",
      "151     1.0  \n",
      "152     1.0  \n",
      "153     1.0  \n",
      "\n",
      "[98 rows x 9 columns]\n"
     ]
    }
   ],
   "source": [
    "print(vegetation_df)"
   ]
  }
 ],
 "metadata": {
  "kernelspec": {
   "display_name": "Python 3 (ipykernel)",
   "language": "python",
   "name": "python3"
  },
  "language_info": {
   "codemirror_mode": {
    "name": "ipython",
    "version": 3
   },
   "file_extension": ".py",
   "mimetype": "text/x-python",
   "name": "python",
   "nbconvert_exporter": "python",
   "pygments_lexer": "ipython3",
   "version": "3.12.3"
  }
 },
 "nbformat": 4,
 "nbformat_minor": 5
}
